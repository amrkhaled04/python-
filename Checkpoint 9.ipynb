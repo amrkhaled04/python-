{
 "cells": [
  {
   "cell_type": "code",
   "execution_count": 3,
   "id": "c64ca1ce",
   "metadata": {},
   "outputs": [
    {
     "name": "stdout",
     "output_type": "stream",
     "text": [
      "True\n"
     ]
    }
   ],
   "source": [
    "#Question 1\n",
    "\n",
    "def haga(x,y):\n",
    "    if (len(x)==1):\n",
    "        if(x[0]==y):\n",
    "            return False\n",
    "        else:\n",
    "            return True\n",
    "    if (x[0] == y):\n",
    "        return False\n",
    "    return haga(x[1:],y)\n",
    "\n",
    "x = [1,2,3,5,8]\n",
    "y = 5\n",
    "if (haga(x,y)):\n",
    "    print(\"False\")\n",
    "else:\n",
    "    print(\"True\")"
   ]
  },
  {
   "cell_type": "code",
   "execution_count": 7,
   "id": "f2eb211c",
   "metadata": {},
   "outputs": [
    {
     "name": "stdout",
     "output_type": "stream",
     "text": [
      "81\n"
     ]
    }
   ],
   "source": [
    "#Question 2\n",
    "\n",
    "def haga(x,y):\n",
    "    if (y == 0):\n",
    "        return 1\n",
    "    return x*haga(x,y-1)\n",
    "x = 3\n",
    "y = 4\n",
    "print(haga(x,y))"
   ]
  },
  {
   "cell_type": "code",
   "execution_count": 5,
   "id": "5c102616",
   "metadata": {},
   "outputs": [
    {
     "name": "stdout",
     "output_type": "stream",
     "text": [
      "[13, 22, 29, 37, 46, 49, 52, 56, 71]\n"
     ]
    }
   ],
   "source": [
    "#Question 3\n",
    "\n",
    "def haga(x,c,i):\n",
    "    if(len(x)==c+1):\n",
    "        return x\n",
    "    if (len(x) == i+2):\n",
    "        if (x[i]>x[i+1]):\n",
    "            temp = x[i+1]\n",
    "            x[i+1] = x[i]\n",
    "            x[i] = temp\n",
    "        return haga(x,c+1,0)\n",
    "    if (x[i]>x[i+1]):\n",
    "        temp = x[i+1]\n",
    "        x[i+1] = x[i]\n",
    "        x[i] = temp   \n",
    "    return haga(x,c,i+1)\n",
    "    \n",
    "x = [29,13,22,37,52,49,46,71,56]\n",
    "print(haga(x,0,0))"
   ]
  },
  {
   "cell_type": "code",
   "execution_count": 21,
   "id": "2c619995",
   "metadata": {},
   "outputs": [
    {
     "name": "stdout",
     "output_type": "stream",
     "text": [
      "[13, 22, 29, 37, 46, 49, 52, 56, 71]\n"
     ]
    }
   ],
   "source": [
    "#Question 4\n",
    "\n",
    "def mergeSort(myList):\n",
    "    if len(myList) > 1:\n",
    "        mid = len(myList) // 2\n",
    "        left = myList[:mid]\n",
    "        right = myList[mid:]\n",
    "        mergeSort(left)\n",
    "        mergeSort(right)\n",
    "        i = 0\n",
    "        j = 0\n",
    "        k = 0\n",
    "        while i < len(left) and j < len(right):\n",
    "            if left[i] < right[j]:\n",
    "              myList[k] = left[i]\n",
    "              i += 1\n",
    "            else:\n",
    "                myList[k] = right[j]\n",
    "                j += 1\n",
    "            k += 1\n",
    "        while i < len(left):\n",
    "            myList[k] = left[i]\n",
    "            i += 1\n",
    "            k += 1\n",
    "        while j < len(right):\n",
    "            myList[k]=right[j]\n",
    "            j += 1\n",
    "            k += 1\n",
    "myList = [29,13,22,37,52,49,46,71,56]\n",
    "mergeSort(myList)\n",
    "print(myList)"
   ]
  },
  {
   "cell_type": "code",
   "execution_count": 2,
   "id": "709349c3",
   "metadata": {},
   "outputs": [],
   "source": [
    "#Question 5\n",
    "\n",
    "def partition(array, start, end):\n",
    "    pivot = array[start]\n",
    "    low = start + 1\n",
    "    high = end\n",
    "    while True:\n",
    "        while low <= high and array[high] >= pivot:\n",
    "            high = high - 1\n",
    "        while low <= high and array[low] <= pivot:\n",
    "            low = low + 1\n",
    "        if low <= high:\n",
    "            array[low], array[high] = array[high], array[low]\n",
    "        else:\n",
    "            break\n",
    "    array[start], array[high] = array[high], array[start]\n",
    "    return high"
   ]
  },
  {
   "cell_type": "code",
   "execution_count": null,
   "id": "ae433f84",
   "metadata": {},
   "outputs": [],
   "source": []
  }
 ],
 "metadata": {
  "kernelspec": {
   "display_name": "Python 3 (ipykernel)",
   "language": "python",
   "name": "python3"
  },
  "language_info": {
   "codemirror_mode": {
    "name": "ipython",
    "version": 3
   },
   "file_extension": ".py",
   "mimetype": "text/x-python",
   "name": "python",
   "nbconvert_exporter": "python",
   "pygments_lexer": "ipython3",
   "version": "3.9.12"
  }
 },
 "nbformat": 4,
 "nbformat_minor": 5
}
