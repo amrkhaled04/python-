{
 "cells": [
  {
   "cell_type": "code",
   "execution_count": 25,
   "id": "ba191394",
   "metadata": {},
   "outputs": [
    {
     "name": "stdout",
     "output_type": "stream",
     "text": [
      "[5,4,3,1]\n"
     ]
    }
   ],
   "source": [
    "#question 1\n",
    "\n",
    "import numpy as np\n",
    "x = np.array([1,3,4,5])\n",
    "i = 0\n",
    "s = \"\"\n",
    "while (i<len(x)):\n",
    "    f = str(x[i])\n",
    "    s = f + \",\" +s\n",
    "    i+=1\n",
    "print(\"[\" + s[:-1] + \"]\")"
   ]
  },
  {
   "cell_type": "code",
   "execution_count": 42,
   "id": "584a092b",
   "metadata": {},
   "outputs": [
    {
     "name": "stdout",
     "output_type": "stream",
     "text": [
      "5\n"
     ]
    }
   ],
   "source": [
    "#question 2\n",
    "\n",
    "import numpy as np\n",
    "x = np.array([[1,3],[2,4]])\n",
    "i = 0\n",
    "j = 0\n",
    "s = 0\n",
    "while (j<len(x)):\n",
    "    while (i<len(x)):\n",
    "        if (i==j):\n",
    "            s += x[i][j]\n",
    "        i+=1\n",
    "    j+=1\n",
    "    i = 0\n",
    "print(s)"
   ]
  },
  {
   "cell_type": "code",
   "execution_count": 58,
   "id": "b1223416",
   "metadata": {},
   "outputs": [
    {
     "name": "stdout",
     "output_type": "stream",
     "text": [
      "['3', '4']\n"
     ]
    }
   ],
   "source": [
    "#question 3\n",
    "\n",
    "import numpy as np\n",
    "x = np.array([[1,3],[2,4]])\n",
    "k = 2\n",
    "i = 0\n",
    "j = 0\n",
    "h = \"\"\n",
    "s = []\n",
    "while (j<len(x)):\n",
    "    while (i<len(x[j])):\n",
    "        if (x[i][j] > k):\n",
    "            h = (str)(x[i][j])\n",
    "            s+=h\n",
    "        i+=1\n",
    "    j+=1\n",
    "    i=0\n",
    "print(s)"
   ]
  },
  {
   "cell_type": "code",
   "execution_count": 75,
   "id": "8442d143",
   "metadata": {},
   "outputs": [
    {
     "name": "stdout",
     "output_type": "stream",
     "text": [
      "[[2 6]\n",
      " [4 8]]\n"
     ]
    }
   ],
   "source": [
    "#question 4\n",
    "\n",
    "import numpy as np\n",
    "x = np.array([[1,3],[2,4]])\n",
    "y = np.array([[1,3],[2,4]])\n",
    "c = np.array([[0,0],[0,0]])\n",
    "i = 0\n",
    "j = 0\n",
    "while (j<len(x)):\n",
    "    while (i<len(x[j])):\n",
    "        c[i][j] =  x[i][j] + y[i][j] \n",
    "        i+=1\n",
    "    j+=1\n",
    "    i = 0\n",
    "print(c)"
   ]
  },
  {
   "cell_type": "code",
   "execution_count": 100,
   "id": "4c13e65c",
   "metadata": {},
   "outputs": [
    {
     "name": "stdout",
     "output_type": "stream",
     "text": [
      "[[2]\n",
      " [3]]\n"
     ]
    }
   ],
   "source": [
    "#question 5\n",
    "\n",
    "import numpy as np\n",
    "x = np.array([[1,3],[2,4]])\n",
    "c = np.array([0,0])\n",
    "c = c.reshape(2,1)\n",
    "s = 0\n",
    "i = 0\n",
    "j = 0\n",
    "while (j<len(x)):\n",
    "    while (i<len(x[j])):\n",
    "        s += x[j][i]\n",
    "        i+=1\n",
    "    s = s/(i)\n",
    "    c[j][0] = s\n",
    "    s = 0\n",
    "    i = 0\n",
    "    j+=1\n",
    "print(c)"
   ]
  },
  {
   "cell_type": "code",
   "execution_count": null,
   "id": "a39bcbbe",
   "metadata": {},
   "outputs": [],
   "source": [
    "\n"
   ]
  }
 ],
 "metadata": {
  "kernelspec": {
   "display_name": "Python 3 (ipykernel)",
   "language": "python",
   "name": "python3"
  },
  "language_info": {
   "codemirror_mode": {
    "name": "ipython",
    "version": 3
   },
   "file_extension": ".py",
   "mimetype": "text/x-python",
   "name": "python",
   "nbconvert_exporter": "python",
   "pygments_lexer": "ipython3",
   "version": "3.9.12"
  }
 },
 "nbformat": 4,
 "nbformat_minor": 5
}
