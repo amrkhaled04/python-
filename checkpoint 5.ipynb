{
 "cells": [
  {
   "cell_type": "code",
   "execution_count": 25,
   "id": "bffe6567",
   "metadata": {},
   "outputs": [
    {
     "name": "stdout",
     "output_type": "stream",
     "text": [
      "(1,2,3)\n"
     ]
    }
   ],
   "source": [
    "#question 1\n",
    "\n",
    "class Point3D:\n",
    "    def __init__(self,x,y,z):\n",
    "        self.x = x\n",
    "        self.y = y\n",
    "        self.z = z\n",
    "    def haga(self):\n",
    "        return \"({},{},{})\".format(self.x,self.y,self.z)\n",
    "my_point = Point3D(1,2,3)\n",
    "print(my_point.haga())\n",
    "\n"
   ]
  },
  {
   "cell_type": "code",
   "execution_count": 30,
   "id": "ac707b36",
   "metadata": {},
   "outputs": [
    {
     "name": "stdout",
     "output_type": "stream",
     "text": [
      "The area is: 30\n",
      "The perimeter is: 22\n"
     ]
    }
   ],
   "source": [
    "#question 2\n",
    "\n",
    "class rectangle:\n",
    "    def __init__(self,l,w):\n",
    "        self.l = l\n",
    "        self.w = w\n",
    "    def area(self):\n",
    "        return \"The area is: {}\".format((self.l)*(self.w))\n",
    "    def prem(self):\n",
    "        return \"The perimeter is: {}\".format(((self.l)+(self.w))*2)\n",
    "my_rectangle = rectangle(5,6)\n",
    "print(my_rectangle.area())\n",
    "print(my_rectangle.prem())\n",
    "    "
   ]
  },
  {
   "cell_type": "code",
   "execution_count": 1,
   "id": "ef617089",
   "metadata": {},
   "outputs": [],
   "source": [
    "#question 3\n",
    "\n",
    "import math\n",
    "class circle:\n",
    "    def __init__(self,o,r):\n",
    "        self.o = o\n",
    "        self.r = r\n",
    "    def inside(self,x,y):\n",
    "        if (x>(self.o + self.r) or y>(self.o + self.r)):\n",
    "            return False\n",
    "        else:\n",
    "            return True\n",
    "    def area(self):\n",
    "        return \"The area is: {}\".format(self.r**2*math.pi)\n",
    "    def prem(self):\n",
    "        return \"The perimeter is: {}\".format(self.r*2*math.pi)\n",
    "gg = circle(0,3)\n",
    "\n"
   ]
  },
  {
   "cell_type": "code",
   "execution_count": 7,
   "id": "0401c53f",
   "metadata": {},
   "outputs": [
    {
     "name": "stdout",
     "output_type": "stream",
     "text": [
      "The the balance now is: 9822\n",
      "The the balance now is: 9811\n"
     ]
    }
   ],
   "source": [
    "#question 4\n",
    "\n",
    "class bank:\n",
    "    def __init__(self,bal):\n",
    "        self.bal = bal\n",
    "    def deposit(self,x):\n",
    "        self.bal = self.bal + x\n",
    "        return \"The the balance now is: {}\".format(self.bal)\n",
    "    def withdraw(self,x):\n",
    "        self.bal = self.bal -x\n",
    "        return \"The the balance now is: {}\".format(self.bal)\n",
    "my_bal = bank(9811)\n",
    "print(my_bal.deposit(11))\n",
    "print(my_bal.withdraw(11))"
   ]
  },
  {
   "cell_type": "code",
   "execution_count": null,
   "id": "a780ca7f",
   "metadata": {},
   "outputs": [],
   "source": []
  }
 ],
 "metadata": {
  "kernelspec": {
   "display_name": "Python 3 (ipykernel)",
   "language": "python",
   "name": "python3"
  },
  "language_info": {
   "codemirror_mode": {
    "name": "ipython",
    "version": 3
   },
   "file_extension": ".py",
   "mimetype": "text/x-python",
   "name": "python",
   "nbconvert_exporter": "python",
   "pygments_lexer": "ipython3",
   "version": "3.9.12"
  }
 },
 "nbformat": 4,
 "nbformat_minor": 5
}
