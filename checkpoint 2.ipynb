{
 "cells": [
  {
   "cell_type": "code",
   "execution_count": null,
   "id": "5d62d43a",
   "metadata": {},
   "outputs": [],
   "source": [
    "#question 1\n",
    "x = input(\"first name: \")\n",
    "y = input(\"last name: \")\n",
    "print(y, x , sep = \"\\n\")\n"
   ]
  },
  {
   "cell_type": "code",
   "execution_count": null,
   "id": "a2eac71a",
   "metadata": {},
   "outputs": [],
   "source": [
    "x = eval(input())\n",
    "g = str(x)\n",
    "l = len(g)\n",
    "s1,s2,s3 = g,g,g\n",
    "print(int(s1) + int(s2+s1) + int(s1+s2+s3))"
   ]
  },
  {
   "cell_type": "code",
   "execution_count": 15,
   "id": "b1d8c7bd",
   "metadata": {},
   "outputs": [
    {
     "name": "stdout",
     "output_type": "stream",
     "text": [
      "3\n",
      "odd\n"
     ]
    }
   ],
   "source": [
    "x = eval(input())\n",
    "if (x%2==0):\n",
    "    print(\"even\")\n",
    "else:\n",
    "    print(\"odd\")"
   ]
  },
  {
   "cell_type": "code",
   "execution_count": null,
   "id": "823c3c34",
   "metadata": {},
   "outputs": [],
   "source": [
    "x = 2000\n",
    "while (x<3201):\n",
    "    if(x%7==0 and x%5!=0):\n",
    "        print(x,end = \" \")\n",
    "    x+=1"
   ]
  },
  {
   "cell_type": "code",
   "execution_count": 24,
   "id": "44f36116",
   "metadata": {},
   "outputs": [
    {
     "name": "stdout",
     "output_type": "stream",
     "text": [
      "0\n",
      "1\n"
     ]
    }
   ],
   "source": [
    "x = eval(input())\n",
    "i = 1\n",
    "s=1\n",
    "while (i<=x):\n",
    "    s*=i\n",
    "    i+=1\n",
    "print(s)\n",
    "        "
   ]
  },
  {
   "cell_type": "code",
   "execution_count": 32,
   "id": "6db9aebf",
   "metadata": {},
   "outputs": [
    {
     "name": "stdout",
     "output_type": "stream",
     "text": [
      "amrkhaled\n",
      "mkae\n"
     ]
    }
   ],
   "source": [
    "x = input()\n",
    "i = 0\n",
    "s = \"\"\n",
    "while(i<len(x)):\n",
    "    if (i%2!=0):\n",
    "        s+=x[i]\n",
    "    i+=1\n",
    "print(s)"
   ]
  },
  {
   "cell_type": "code",
   "execution_count": 39,
   "id": "980e8497",
   "metadata": {},
   "outputs": [
    {
     "name": "stdout",
     "output_type": "stream",
     "text": [
      "320\n",
      "224\n"
     ]
    }
   ],
   "source": [
    "x = eval(input())\n",
    "if (x>=500):\n",
    "    print(int(x*0.5))\n",
    "elif (x>=200 and x<500):\n",
    "    print(int(x*0.7))\n",
    "else:\n",
    "    print(int(x*0.1))"
   ]
  },
  {
   "cell_type": "code",
   "execution_count": null,
   "id": "d35be2d6",
   "metadata": {},
   "outputs": [],
   "source": []
  },
  {
   "cell_type": "code",
   "execution_count": null,
   "id": "5e9648ae",
   "metadata": {},
   "outputs": [],
   "source": []
  }
 ],
 "metadata": {
  "kernelspec": {
   "display_name": "Python 3 (ipykernel)",
   "language": "python",
   "name": "python3"
  },
  "language_info": {
   "codemirror_mode": {
    "name": "ipython",
    "version": 3
   },
   "file_extension": ".py",
   "mimetype": "text/x-python",
   "name": "python",
   "nbconvert_exporter": "python",
   "pygments_lexer": "ipython3",
   "version": "3.9.12"
  }
 },
 "nbformat": 4,
 "nbformat_minor": 5
}
