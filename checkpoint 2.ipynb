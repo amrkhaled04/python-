{
 "cells": [
  {
   "cell_type": "code",
   "execution_count": null,
   "id": "f99f27db",
   "metadata": {},
   "outputs": [],
   "source": [
    "#question 1\n",
    "x = input(\"first name: \")\n",
    "y = input(\"last name: \")\n",
    "print(y, x , sep = \"\\n\")\n"
   ]
  },
  {
   "cell_type": "code",
   "execution_count": 13,
   "id": "fe239738",
   "metadata": {},
   "outputs": [
    {
     "name": "stdout",
     "output_type": "stream",
     "text": [
      "5\n",
      "615\n"
     ]
    }
   ],
   "source": [
    "x = eval(input())\n",
    "print(x+x*11+x*111)"
   ]
  },
  {
   "cell_type": "code",
   "execution_count": 15,
   "id": "db418a21",
   "metadata": {},
   "outputs": [
    {
     "name": "stdout",
     "output_type": "stream",
     "text": [
      "3\n",
      "odd\n"
     ]
    }
   ],
   "source": [
    "x = eval(input())\n",
    "if (x%2==0):\n",
    "    print(\"even\")\n",
    "else:\n",
    "    print(\"odd\")"
   ]
  },
  {
   "cell_type": "code",
   "execution_count": null,
   "id": "c8ca30df",
   "metadata": {},
   "outputs": [],
   "source": [
    "x = 2000\n",
    "while (x<3201):\n",
    "    if(x%7==0 and x%5!=0):\n",
    "        print(x,end = \" \")\n",
    "    x+=1"
   ]
  },
  {
   "cell_type": "code",
   "execution_count": 24,
   "id": "9ed35aba",
   "metadata": {},
   "outputs": [
    {
     "name": "stdout",
     "output_type": "stream",
     "text": [
      "0\n",
      "1\n"
     ]
    }
   ],
   "source": [
    "x = eval(input())\n",
    "i = 1\n",
    "s=1\n",
    "while (i<=x):\n",
    "    s*=i\n",
    "    i+=1\n",
    "print(s)\n",
    "        "
   ]
  },
  {
   "cell_type": "code",
   "execution_count": 32,
   "id": "432f1d4a",
   "metadata": {},
   "outputs": [
    {
     "name": "stdout",
     "output_type": "stream",
     "text": [
      "amrkhaled\n",
      "mkae\n"
     ]
    }
   ],
   "source": [
    "x = input()\n",
    "i = 0\n",
    "s = \"\"\n",
    "while(i<len(x)):\n",
    "    if (i%2!=0):\n",
    "        s+=x[i]\n",
    "    i+=1\n",
    "print(s)"
   ]
  },
  {
   "cell_type": "code",
   "execution_count": 39,
   "id": "700d81d9",
   "metadata": {},
   "outputs": [
    {
     "name": "stdout",
     "output_type": "stream",
     "text": [
      "320\n",
      "224\n"
     ]
    }
   ],
   "source": [
    "x = eval(input())\n",
    "if (x>=500):\n",
    "    print(int(x*0.5))\n",
    "elif (x>=200 and x<500):\n",
    "    print(int(x*0.7))\n",
    "else:\n",
    "    print(int(x*0.1))"
   ]
  },
  {
   "cell_type": "code",
   "execution_count": null,
   "id": "f1a463ef",
   "metadata": {},
   "outputs": [],
   "source": []
  },
  {
   "cell_type": "code",
   "execution_count": null,
   "id": "ca469dec",
   "metadata": {},
   "outputs": [],
   "source": []
  }
 ],
 "metadata": {
  "kernelspec": {
   "display_name": "Python 3 (ipykernel)",
   "language": "python",
   "name": "python3"
  },
  "language_info": {
   "codemirror_mode": {
    "name": "ipython",
    "version": 3
   },
   "file_extension": ".py",
   "mimetype": "text/x-python",
   "name": "python",
   "nbconvert_exporter": "python",
   "pygments_lexer": "ipython3",
   "version": "3.9.12"
  }
 },
 "nbformat": 4,
 "nbformat_minor": 5
}
