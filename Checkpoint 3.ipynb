{
 "cells": [
  {
   "cell_type": "code",
   "execution_count": 2,
   "id": "c5f6c1dd",
   "metadata": {},
   "outputs": [
    {
     "name": "stdout",
     "output_type": "stream",
     "text": [
      "36\n"
     ]
    }
   ],
   "source": [
    "#question 1\n",
    "\n",
    "x = [2,3,6]\n",
    "l = len(x)\n",
    "i = 0\n",
    "s = 1\n",
    "while (i<l):\n",
    "    s*=x[i]\n",
    "    i+=1\n",
    "print(s)"
   ]
  },
  {
   "cell_type": "code",
   "execution_count": 78,
   "id": "bced285d",
   "metadata": {},
   "outputs": [
    {
     "name": "stdout",
     "output_type": "stream",
     "text": [
      "[2, 1, 2, 1, 2, 1, 2, 1, 2, 1]\n"
     ]
    }
   ],
   "source": [
    "#question 2\n",
    "#we discussed it together but still couldn't solve it within my way and can't remember the methods you teached \n",
    "\n",
    "x =[(2,5),(1,2),(4,4),(2,3),(2,1)]\n",
    "l,l2 = len(x),len(x)\n",
    "i = 0\n",
    "j = 0\n",
    "k = []\n",
    "w = 0\n",
    "flag = 10000000000000000000 \n",
    "while (j<l):\n",
    "    while (i<l2):\n",
    "        y = x[i]\n",
    "        if ((y[len(y)-1])<flag):\n",
    "            flag = y[len(y)-1]\n",
    "            g = y\n",
    "            w = i\n",
    "        i+=1\n",
    "    k+=g\n",
    "    j+=1\n",
    "    flag = 1000000000000\n",
    "    l2 = len(x)\n",
    "print(k)"
   ]
  },
  {
   "cell_type": "code",
   "execution_count": 3,
   "id": "2af0fa41",
   "metadata": {},
   "outputs": [
    {
     "name": "stdout",
     "output_type": "stream",
     "text": [
      "{'a': 400, 'b': 400}\n"
     ]
    }
   ],
   "source": [
    "#question 3\n",
    "#don't know how to use update function\n",
    "\n",
    "x = {'a': 100, 'b': 200, 'c':300}\n",
    "y = {'a': 300, 'b': 200, 'd':400}\n",
    "k = {}\n",
    "for key in x:\n",
    "    for key1 in y:\n",
    "        if (key1 == key):\n",
    "            k[key] = x[key] + y[key1] \n",
    "print(k)\n"
   ]
  },
  {
   "cell_type": "code",
   "execution_count": 3,
   "id": "ed78120d",
   "metadata": {},
   "outputs": [
    {
     "name": "stdout",
     "output_type": "stream",
     "text": [
      "Enter number: 2\n",
      "{1: 1, 2: 4}\n"
     ]
    }
   ],
   "source": [
    "#question 4\n",
    "\n",
    "x = eval(input(\"Enter number: \"))\n",
    "i = 1\n",
    "g = {}\n",
    "while (i<=x):\n",
    "    g[i] = i**2\n",
    "    i+=1\n",
    "print(g)\n"
   ]
  },
  {
   "cell_type": "code",
   "execution_count": 77,
   "id": "e9f1eab5",
   "metadata": {},
   "outputs": [
    {
     "name": "stdout",
     "output_type": "stream",
     "text": [
      "[('item3', '24.5'), ('item3', '24.5'), ('item3', '24.5')]\n"
     ]
    }
   ],
   "source": [
    "#question 5\n",
    "#ana 3arf l ghlta fean bs can't solve it\n",
    "\n",
    "x = [('item1', '12.20'), ('item2', '15.10'), ('item3', '24.5')]\n",
    "l,l2 = len(x),len(x)\n",
    "i = 0\n",
    "j = 0\n",
    "flag = 0.0\n",
    "check = []\n",
    "while (j<l2):\n",
    "    while (i<l):\n",
    "        y = x[i]\n",
    "        f = y[len(y)-1]\n",
    "        s =  float (f)\n",
    "        if (s > flag):\n",
    "            flag = s\n",
    "            g = y\n",
    "        i+=1\n",
    "    temp = x[j]\n",
    "    x[j] = g\n",
    "    y = temp\n",
    "    j+=1\n",
    "    flag = 0.0\n",
    "    i = j+1\n",
    "print(x)"
   ]
  }
 ],
 "metadata": {
  "kernelspec": {
   "display_name": "Python 3 (ipykernel)",
   "language": "python",
   "name": "python3"
  },
  "language_info": {
   "codemirror_mode": {
    "name": "ipython",
    "version": 3
   },
   "file_extension": ".py",
   "mimetype": "text/x-python",
   "name": "python",
   "nbconvert_exporter": "python",
   "pygments_lexer": "ipython3",
   "version": "3.9.12"
  }
 },
 "nbformat": 4,
 "nbformat_minor": 5
}
