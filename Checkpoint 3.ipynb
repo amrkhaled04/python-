{
 "cells": [
  {
   "cell_type": "code",
   "execution_count": 2,
   "id": "c5f6c1dd",
   "metadata": {},
   "outputs": [
    {
     "name": "stdout",
     "output_type": "stream",
     "text": [
      "36\n"
     ]
    }
   ],
   "source": [
    "#question 1\n",
    "\n",
    "x = [2,3,6]\n",
    "l = len(x)\n",
    "i = 0\n",
    "s = 1\n",
    "while (i<l):\n",
    "    s*=x[i]\n",
    "    i+=1\n",
    "print(s)"
   ]
  },
  {
   "cell_type": "code",
   "execution_count": 8,
   "id": "bced285d",
   "metadata": {},
   "outputs": [
    {
     "name": "stdout",
     "output_type": "stream",
     "text": [
      "[(2, 1), (1, 2), (2, 3), (4, 4), (2, 5)]\n"
     ]
    }
   ],
   "source": [
    "#question 2\n",
    "\n",
    "x =[(2,5),(1,2),(4,4),(2,3),(2,1)]\n",
    "def haga(bot):\n",
    "    return bot[1]\n",
    "x.sort(key=haga)\n",
    "print(x)"
   ]
  },
  {
   "cell_type": "code",
   "execution_count": 2,
   "id": "2af0fa41",
   "metadata": {},
   "outputs": [
    {
     "name": "stdout",
     "output_type": "stream",
     "text": [
      "{'a': 400, 'b': 400, 'c': 300, 'd': 400}\n"
     ]
    }
   ],
   "source": [
    "#question 3\n",
    "\n",
    "\n",
    "x = {'a': 100, 'b': 200, 'c':300}\n",
    "y = {'a': 300, 'b': 200, 'd':400}\n",
    "k = dict(x)\n",
    "k.update(y)\n",
    "for key in x:\n",
    "    for key1 in y:\n",
    "        if (key1 == key):\n",
    "            k[key] = x[key] + y[key1] \n",
    "print(k)\n"
   ]
  },
  {
   "cell_type": "code",
   "execution_count": 3,
   "id": "ed78120d",
   "metadata": {},
   "outputs": [
    {
     "name": "stdout",
     "output_type": "stream",
     "text": [
      "Enter number: 2\n",
      "{1: 1, 2: 4}\n"
     ]
    }
   ],
   "source": [
    "#question 4\n",
    "\n",
    "x = eval(input(\"Enter number: \"))\n",
    "i = 1\n",
    "g = {}\n",
    "while (i<=x):\n",
    "    g[i] = i**2\n",
    "    i+=1\n",
    "print(g)\n"
   ]
  },
  {
   "cell_type": "code",
   "execution_count": 9,
   "id": "e9f1eab5",
   "metadata": {},
   "outputs": [
    {
     "name": "stdout",
     "output_type": "stream",
     "text": [
      "[('item3', '24.5'), ('item2', '15.10'), ('item1', '12.20')]\n"
     ]
    }
   ],
   "source": [
    "#question 5\n",
    "\n",
    "x = [('item1', '12.20'), ('item2', '15.10'), ('item3', '24.5')]\n",
    "def haga(bot):\n",
    "    return bot[1]\n",
    "x.sort(key=haga, reverse = True)\n",
    "print(x)"
   ]
  },
  {
   "cell_type": "code",
   "execution_count": null,
   "id": "cc0154a8",
   "metadata": {},
   "outputs": [],
   "source": []
  }
 ],
 "metadata": {
  "kernelspec": {
   "display_name": "Python 3 (ipykernel)",
   "language": "python",
   "name": "python3"
  },
  "language_info": {
   "codemirror_mode": {
    "name": "ipython",
    "version": 3
   },
   "file_extension": ".py",
   "mimetype": "text/x-python",
   "name": "python",
   "nbconvert_exporter": "python",
   "pygments_lexer": "ipython3",
   "version": "3.9.12"
  }
 },
 "nbformat": 4,
 "nbformat_minor": 5
}
