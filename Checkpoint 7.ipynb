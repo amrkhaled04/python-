{
 "cells": [
  {
   "cell_type": "code",
   "execution_count": 76,
   "id": "2684499b",
   "metadata": {},
   "outputs": [],
   "source": [
    "import pandas as pd\n",
    "import numpy as np\n",
    "exam_data = {'name': ['Anastasia', 'Dima', 'Katherine', 'James', 'Emily', 'Michael', 'Matthew', 'Laura', 'Kevin', 'Jonas'],\n",
    "\n",
    "'score': [12.5, 9, 16.5, np.nan, 9, 20, 14.5, np.nan, 8, 19],\n",
    "\n",
    "'attempts': [1, 3, 2, 3, 2, 3, 1, 1, 2, 1],\n",
    "\n",
    "'qualify': ['yes', 'no', 'yes', 'no', 'no', 'yes', 'yes', 'no', 'no', 'yes']}\n",
    "\n",
    "add_data = {'name':[\"Suresh\"],'score':[15.5],'attempts':[1],'qualify':['yes'] }\n",
    "y = []\n",
    "i = 0\n",
    "j = 1\n",
    "\n",
    "labels = ['a', 'b', 'c', 'd', 'e', 'f', 'g', 'h', 'i', 'j']\n",
    "labels2 = ['k']\n",
    "df2 = pd.DataFrame(add_data,index = labels2)\n",
    "df = pd.DataFrame(exam_data, index = labels)\n",
    "df.head(3)\n",
    "df.dropna()\n",
    "df.iloc[:,0:2]\n",
    "pd.concat([df,df2])\n",
    "df.drop('attempts',axis = 1)\n",
    "df['success'] = np.where(df['score']>10,1,0)\n",
    "df.to_csv('my_data')\n",
    "\n"
   ]
  },
  {
   "cell_type": "code",
   "execution_count": null,
   "id": "349aa93b",
   "metadata": {},
   "outputs": [],
   "source": [
    "\n"
   ]
  }
 ],
 "metadata": {
  "kernelspec": {
   "display_name": "Python 3 (ipykernel)",
   "language": "python",
   "name": "python3"
  },
  "language_info": {
   "codemirror_mode": {
    "name": "ipython",
    "version": 3
   },
   "file_extension": ".py",
   "mimetype": "text/x-python",
   "name": "python",
   "nbconvert_exporter": "python",
   "pygments_lexer": "ipython3",
   "version": "3.9.12"
  }
 },
 "nbformat": 4,
 "nbformat_minor": 5
}
