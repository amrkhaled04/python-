{
 "cells": [
  {
   "cell_type": "code",
   "execution_count": 4,
   "id": "f634c462",
   "metadata": {},
   "outputs": [
    {
     "name": "stdout",
     "output_type": "stream",
     "text": [
      "9\n"
     ]
    }
   ],
   "source": [
    "#question 1\n",
    "\n",
    "def max(x,y,z):\n",
    "    if (x>z and x>y):\n",
    "        return x\n",
    "    elif (y>x and y>z):\n",
    "        return y\n",
    "    else:\n",
    "        return z\n",
    "print(max(2,3,9))\n",
    "    "
   ]
  },
  {
   "cell_type": "code",
   "execution_count": 61,
   "id": "7f1c6cd4",
   "metadata": {},
   "outputs": [
    {
     "name": "stdout",
     "output_type": "stream",
     "text": [
      "50\n",
      "20\n",
      "(70, 30)\n"
     ]
    }
   ],
   "source": [
    "#question 2 \n",
    "\n",
    "def calc(x,y):\n",
    "    return print(((x+y),(x-y)))\n",
    "x = eval(input())\n",
    "y = eval(input())\n",
    "calc(x,y)"
   ]
  },
  {
   "cell_type": "code",
   "execution_count": 8,
   "id": "73d2938e",
   "metadata": {},
   "outputs": [
    {
     "name": "stdout",
     "output_type": "stream",
     "text": [
      "9 48\n"
     ]
    }
   ],
   "source": [
    "#question 3 \n",
    "\n",
    "def sum(x):\n",
    "    l = len(x)\n",
    "    i = 0\n",
    "    s = 0\n",
    "    while (i<l):\n",
    "        s+=x[i]\n",
    "        i+=1\n",
    "    return s\n",
    "def multip(x):\n",
    "    l = len(x)\n",
    "    j = 0\n",
    "    s2 = 1\n",
    "    while (j<l):\n",
    "        s2*=x[j]\n",
    "        j+=1\n",
    "    return s2\n",
    "i = 0\n",
    "s = []\n",
    "s2 = []\n",
    "x = eval(input())\n",
    "while (i<len(x)):\n",
    "    if(i%2==0):\n",
    "        s.append(x[i])\n",
    "    else:\n",
    "        s2.append(x[i])\n",
    "    i+=1\n",
    "print(sum(s),multip(s2))"
   ]
  },
  {
   "cell_type": "code",
   "execution_count": 56,
   "id": "bd3ad461",
   "metadata": {},
   "outputs": [
    {
     "name": "stdout",
     "output_type": "stream",
     "text": [
      "green-red-yellow-black-white\n",
      "black-green-red-white-yellow\n"
     ]
    }
   ],
   "source": [
    "#question 4\n",
    "\n",
    "x = input()\n",
    "x = x.split(\"-\")\n",
    "x.sort()\n",
    "s = \"\"\n",
    "for i in x:\n",
    "    s+=(i + \"-\")\n",
    "print(s[:-1])"
   ]
  },
  {
   "cell_type": "code",
   "execution_count": 59,
   "id": "9348d525",
   "metadata": {},
   "outputs": [
    {
     "name": "stdout",
     "output_type": "stream",
     "text": [
      "100,123\n",
      "18,20\n"
     ]
    }
   ],
   "source": [
    "#question 5\n",
    "\n",
    "import math\n",
    "def haga(x):\n",
    "    s = math.sqrt(((100*x)/30))\n",
    "    return str(int(s))\n",
    "x = input()\n",
    "x = x.split(\",\")\n",
    "f = \"\"\n",
    "for i in x:\n",
    "    f += \",\" + haga(int(i))\n",
    "print(f[1:])"
   ]
  }
 ],
 "metadata": {
  "kernelspec": {
   "display_name": "Python 3 (ipykernel)",
   "language": "python",
   "name": "python3"
  },
  "language_info": {
   "codemirror_mode": {
    "name": "ipython",
    "version": 3
   },
   "file_extension": ".py",
   "mimetype": "text/x-python",
   "name": "python",
   "nbconvert_exporter": "python",
   "pygments_lexer": "ipython3",
   "version": "3.9.12"
  }
 },
 "nbformat": 4,
 "nbformat_minor": 5
}
