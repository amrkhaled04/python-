{
 "cells": [
  {
   "cell_type": "code",
   "execution_count": 86,
   "id": "a547f681",
   "metadata": {},
   "outputs": [
    {
     "data": {
      "text/plain": [
       "'What is Python language?                                                \\nPython is a widely used high-level, general-purpose, interpreted, dynamic programming language.Its design philosophy emphasizes code readability, and its syntax allows programmers to express concepts in fewer lines of code than possible in \\nlanguages such as C++ or Java. \\nPython supports multiple programming paradigms, including object-oriented, imperative and functional programming or procedural styles. It features a dynamic type system and automatic memory management and has a large and comprehensive standard library.The best way we learn anything is by practice and exercise questions. We  have started this section for those (beginner to intermediate) who are familiar with Python.'"
      ]
     },
     "execution_count": 86,
     "metadata": {},
     "output_type": "execute_result"
    }
   ],
   "source": [
    "#question 1\n",
    "\n",
    "x = open(\"C:/Users/amrkh/Desktop/python.txt\")\n",
    "x.read()"
   ]
  },
  {
   "cell_type": "code",
   "execution_count": 85,
   "id": "d7353574",
   "metadata": {},
   "outputs": [
    {
     "name": "stdout",
     "output_type": "stream",
     "text": [
      "2\n",
      "What is Python language?                                                \n",
      "Python is a widely used high-level, general-purpose, interpreted, dynamic programming language.Its design philosophy emphasizes code readability, and its syntax allows programmers to express concepts in fewer lines of code than possible in \n"
     ]
    }
   ],
   "source": [
    "#question 2\n",
    "\n",
    "x = open(\"C:/Users/amrkh/Desktop/python.txt\")\n",
    "y = eval(input())\n",
    "c = 0\n",
    "for line in x:\n",
    "    if(c<y):     \n",
    "        print(line, end = '')\n",
    "    c+=1"
   ]
  },
  {
   "cell_type": "code",
   "execution_count": 81,
   "id": "7e57ed9e",
   "metadata": {},
   "outputs": [
    {
     "name": "stdout",
     "output_type": "stream",
     "text": [
      "2\n",
      "languages such as C++ or Java. \n",
      "Python supports multiple programming paradigms, including object-oriented, imperative and functional programming or procedural styles. It features a dynamic type system and automatic memory management and has a large and comprehensive standard library.The best way we learn anything is by practice and exercise questions. We  have started this section for those (beginner to intermediate) who are familiar with Python."
     ]
    }
   ],
   "source": [
    "# question 3\n",
    "\n",
    "x = open(\"C:/Users/amrkh/Desktop/python.txt\")\n",
    "y = eval(input())\n",
    "c = 0\n",
    "i = 0\n",
    "for k in x:\n",
    "    c+=1\n",
    "f = c-y-1\n",
    "x = open(\"C:/Users/amrkh/Desktop/python.txt\")\n",
    "for line in x:\n",
    "    if (i > f):\n",
    "        print(line, end='')\n",
    "    i+=1"
   ]
  },
  {
   "cell_type": "code",
   "execution_count": 96,
   "id": "77b64e1b",
   "metadata": {},
   "outputs": [
    {
     "name": "stdout",
     "output_type": "stream",
     "text": [
      "100\n"
     ]
    }
   ],
   "source": [
    "#question 4 \n",
    "\n",
    "x = open(\"C:/Users/amrkh/Desktop/python.txt\")\n",
    "y = x.read().split()\n",
    "print(len(y))"
   ]
  },
  {
   "cell_type": "code",
   "execution_count": null,
   "id": "acfe8584",
   "metadata": {},
   "outputs": [],
   "source": []
  }
 ],
 "metadata": {
  "kernelspec": {
   "display_name": "Python 3 (ipykernel)",
   "language": "python",
   "name": "python3"
  },
  "language_info": {
   "codemirror_mode": {
    "name": "ipython",
    "version": 3
   },
   "file_extension": ".py",
   "mimetype": "text/x-python",
   "name": "python",
   "nbconvert_exporter": "python",
   "pygments_lexer": "ipython3",
   "version": "3.9.12"
  }
 },
 "nbformat": 4,
 "nbformat_minor": 5
}
